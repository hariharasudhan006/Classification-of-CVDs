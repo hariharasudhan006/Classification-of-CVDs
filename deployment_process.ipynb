{
 "cells": [
  {
   "cell_type": "code",
   "execution_count": 1,
   "metadata": {
    "collapsed": true
   },
   "outputs": [],
   "source": [
    "from ibm_watson_machine_learning import APIClient"
   ]
  },
  {
   "cell_type": "code",
   "execution_count": 2,
   "metadata": {
    "collapsed": false
   },
   "outputs": [],
   "source": [
    "wml_credential = {\n",
    "    'url': 'https://eu-de.ml.cloud.ibm.com',\n",
    "    'apikey': 'Ndj3UnNat-ZW_rOzehbxfzaMRt5DfuLeISJfNW_vuebX'\n",
    "}"
   ]
  },
  {
   "cell_type": "code",
   "execution_count": 3,
   "metadata": {
    "collapsed": false
   },
   "outputs": [],
   "source": [
    "client = APIClient(wml_credential)"
   ]
  },
  {
   "cell_type": "code",
   "execution_count": 4,
   "metadata": {
    "collapsed": false
   },
   "outputs": [
    {
     "data": {
      "text/plain": [
       "<ibm_watson_machine_learning.client.APIClient at 0x126eafa80d0>"
      ]
     },
     "execution_count": 4,
     "metadata": {},
     "output_type": "execute_result"
    }
   ],
   "source": [
    "client"
   ]
  },
  {
   "cell_type": "code",
   "execution_count": 5,
   "metadata": {
    "collapsed": false
   },
   "outputs": [
    {
     "name": "stdout",
     "output_type": "stream",
     "text": [
      "Note: 'limit' is not provided. Only first 50 records will be displayed if the number of records exceed 50\n",
      "------------------------------------  --------------  ------------------------\n",
      "ID                                    NAME            CREATED\n",
      "4ecc4a52-91f7-4d31-a885-6851624e76ec  Nalaiya thiran  2022-11-04T06:05:27.721Z\n",
      "------------------------------------  --------------  ------------------------\n"
     ]
    }
   ],
   "source": [
    "client.spaces.list()"
   ]
  },
  {
   "cell_type": "code",
   "execution_count": 6,
   "metadata": {
    "collapsed": false
   },
   "outputs": [
    {
     "data": {
      "text/plain": [
       "'SUCCESS'"
      ]
     },
     "execution_count": 6,
     "metadata": {},
     "output_type": "execute_result"
    }
   ],
   "source": [
    "space_id = \"4ecc4a52-91f7-4d31-a885-6851624e76ec\"\n",
    "client.set.default_space(space_id)"
   ]
  },
  {
   "cell_type": "code",
   "execution_count": 7,
   "metadata": {
    "collapsed": false
   },
   "outputs": [
    {
     "name": "stdout",
     "output_type": "stream",
     "text": [
      "-----------------------------  ------------------------------------  ----\n",
      "NAME                           ASSET_ID                              TYPE\n",
      "default_py3.6                  0062b8c9-8b7d-44a0-a9b9-46c416adcbd9  base\n",
      "kernel-spark3.2-scala2.12      020d69ce-7ac1-5e68-ac1a-31189867356a  base\n",
      "pytorch-onnx_1.3-py3.7-edt     069ea134-3346-5748-b513-49120e15d288  base\n",
      "scikit-learn_0.20-py3.6        09c5a1d0-9c1e-4473-a344-eb7b665ff687  base\n",
      "spark-mllib_3.0-scala_2.12     09f4cff0-90a7-5899-b9ed-1ef348aebdee  base\n",
      "pytorch-onnx_rt22.1-py3.9      0b848dd4-e681-5599-be41-b5f6fccc6471  base\n",
      "ai-function_0.1-py3.6          0cdb0f1e-5376-4f4d-92dd-da3b69aa9bda  base\n",
      "shiny-r3.6                     0e6e79df-875e-4f24-8ae9-62dcc2148306  base\n",
      "tensorflow_2.4-py3.7-horovod   1092590a-307d-563d-9b62-4eb7d64b3f22  base\n",
      "pytorch_1.1-py3.6              10ac12d6-6b30-4ccd-8392-3e922c096a92  base\n",
      "tensorflow_1.15-py3.6-ddl      111e41b3-de2d-5422-a4d6-bf776828c4b7  base\n",
      "runtime-22.1-py3.9             12b83a17-24d8-5082-900f-0ab31fbfd3cb  base\n",
      "scikit-learn_0.22-py3.6        154010fa-5b3b-4ac1-82af-4d5ee5abbc85  base\n",
      "default_r3.6                   1b70aec3-ab34-4b87-8aa0-a4a3c8296a36  base\n",
      "pytorch-onnx_1.3-py3.6         1bc6029a-cc97-56da-b8e0-39c3880dbbe7  base\n",
      "kernel-spark3.3-r3.6           1c9e5454-f216-59dd-a20e-474a5cdf5988  base\n",
      "pytorch-onnx_rt22.1-py3.9-edt  1d362186-7ad5-5b59-8b6c-9d0880bde37f  base\n",
      "tensorflow_2.1-py3.6           1eb25b84-d6ed-5dde-b6a5-3fbdf1665666  base\n",
      "spark-mllib_3.2                20047f72-0a98-58c7-9ff5-a77b012eb8f5  base\n",
      "tensorflow_2.4-py3.8-horovod   217c16f6-178f-56bf-824a-b19f20564c49  base\n",
      "runtime-22.1-py3.9-cuda        26215f05-08c3-5a41-a1b0-da66306ce658  base\n",
      "do_py3.8                       295addb5-9ef9-547e-9bf4-92ae3563e720  base\n",
      "autoai-ts_3.8-py3.8            2aa0c932-798f-5ae9-abd6-15e0c2402fb5  base\n",
      "tensorflow_1.15-py3.6          2b73a275-7cbf-420b-a912-eae7f436e0bc  base\n",
      "kernel-spark3.3-py3.9          2b7961e2-e3b1-5a8c-a491-482c8368839a  base\n",
      "pytorch_1.2-py3.6              2c8ef57d-2687-4b7d-acce-01f94976dac1  base\n",
      "spark-mllib_2.3                2e51f700-bca0-4b0d-88dc-5c6791338875  base\n",
      "pytorch-onnx_1.1-py3.6-edt     32983cea-3f32-4400-8965-dde874a8d67e  base\n",
      "spark-mllib_3.0-py37           36507ebe-8770-55ba-ab2a-eafe787600e9  base\n",
      "spark-mllib_2.4                390d21f8-e58b-4fac-9c55-d7ceda621326  base\n",
      "xgboost_0.82-py3.6             39e31acd-5f30-41dc-ae44-60233c80306e  base\n",
      "pytorch-onnx_1.2-py3.6-edt     40589d0e-7019-4e28-8daa-fb03b6f4fe12  base\n",
      "default_r36py38                41c247d3-45f8-5a71-b065-8580229facf0  base\n",
      "autoai-ts_rt22.1-py3.9         4269d26e-07ba-5d40-8f66-2d495b0c71f7  base\n",
      "autoai-obm_3.0                 42b92e18-d9ab-567f-988a-4240ba1ed5f7  base\n",
      "pmml-3.0_4.3                   493bcb95-16f1-5bc5-bee8-81b8af80e9c7  base\n",
      "spark-mllib_2.4-r_3.6          49403dff-92e9-4c87-a3d7-a42d0021c095  base\n",
      "xgboost_0.90-py3.6             4ff8d6c2-1343-4c18-85e1-689c965304d3  base\n",
      "pytorch-onnx_1.1-py3.6         50f95b2a-bc16-43bb-bc94-b0bed208c60b  base\n",
      "autoai-ts_3.9-py3.8            52c57136-80fa-572e-8728-a5e7cbb42cde  base\n",
      "spark-mllib_2.4-scala_2.11     55a70f99-7320-4be5-9fb9-9edb5a443af5  base\n",
      "spark-mllib_3.0                5c1b0ca2-4977-5c2e-9439-ffd44ea8ffe9  base\n",
      "autoai-obm_2.0                 5c2e37fa-80b8-5e77-840f-d912469614ee  base\n",
      "spss-modeler_18.1              5c3cad7e-507f-4b2a-a9a3-ab53a21dee8b  base\n",
      "cuda-py3.8                     5d3232bf-c86b-5df4-a2cd-7bb870a1cd4e  base\n",
      "autoai-kb_3.1-py3.7            632d4b22-10aa-5180-88f0-f52dfb6444d7  base\n",
      "pytorch-onnx_1.7-py3.8         634d3cdc-b562-5bf9-a2d4-ea90a478456b  base\n",
      "spark-mllib_2.3-r_3.6          6586b9e3-ccd6-4f92-900f-0f8cb2bd6f0c  base\n",
      "tensorflow_2.4-py3.7           65e171d7-72d1-55d9-8ebb-f813d620c9bb  base\n",
      "spss-modeler_18.2              687eddc9-028a-4117-b9dd-e57b36f1efa5  base\n",
      "-----------------------------  ------------------------------------  ----\n",
      "Note: Only first 50 records were displayed. To display more use 'limit' parameter.\n"
     ]
    }
   ],
   "source": [
    "software_space_id = client.software_specifications.get_id_by_name(\"tensorflow_rt22.1-py3.9\")\n",
    "client.software_specifications.list()"
   ]
  },
  {
   "cell_type": "code",
   "execution_count": 8,
   "metadata": {
    "collapsed": false
   },
   "outputs": [
    {
     "data": {
      "text/plain": [
       "'acd9c798-6974-5d2f-a657-ce06e986df4d'"
      ]
     },
     "execution_count": 8,
     "metadata": {},
     "output_type": "execute_result"
    }
   ],
   "source": [
    "software_space_id"
   ]
  },
  {
   "cell_type": "code",
   "execution_count": 9,
   "metadata": {
    "collapsed": false
   },
   "outputs": [],
   "source": [
    "model_details = client.repository.store_model(\n",
    "    model='model.tgz',\n",
    "    meta_props={\n",
    "    client.repository.ModelMetaNames.NAME:\"CVD predictor\",\n",
    "    client.repository.ModelMetaNames.TYPE:\"tensorflow_2.7\",\n",
    "    client.repository.ModelMetaNames.SOFTWARE_SPEC_UID:software_space_id }\n",
    ")"
   ]
  },
  {
   "cell_type": "code",
   "execution_count": 10,
   "metadata": {
    "collapsed": false
   },
   "outputs": [
    {
     "name": "stdout",
     "output_type": "stream",
     "text": [
      "------------------------------------  -------------  ------------------------  --------------  -----\n",
      "GUID                                  NAME           CREATED                   FRAMEWORK       TYPE\n",
      "b800b511-d515-47da-8bd5-c06b927c379e  CVD predictor  2022-11-04T06:34:57.002Z  tensorflow_2.7  model\n",
      "------------------------------------  -------------  ------------------------  --------------  -----\n"
     ]
    }
   ],
   "source": [
    "client.repository.list()"
   ]
  },
  {
   "cell_type": "code",
   "execution_count": 12,
   "metadata": {},
   "outputs": [
    {
     "name": "stdout",
     "output_type": "stream",
     "text": [
      "----------------------  ------------------------------------  --------------------------------------------------------------------------------------------------------------------------------------\n",
      "NAME                    ID                                    DESCRIPTION\n",
      "ML                      5a1f0e64-e420-55ce-bd7a-f6d00bb942cf  A hardware specification providing 4 CPU cores and 32 GiB of memory.\n",
      "L                       a6c4923b-b8e4-444c-9f43-8a7ec3020110  A hardware specification providing 8 CPU cores and 32 GiB of memory.\n",
      "Default Spark           ac59d20a-9c7c-4504-a853-788ef35969da  A hardware specification for Spark with 1 CPU and 4 GiB of memory for master and worker nodes, with 2 workers.\n",
      "XXS                     b128f957-581d-46d0-95b6-8af5cd5be580  A hardware specification providing one CPU core and 2 GiB of memory.\n",
      "M-Spark                 b2232f7a-bfad-4822-9bce-6ba1af49217a  A hardware specification for Spark service with 2 CPU and 8 GiB of memory for master and 2 CPU and 8 GiB of memory for worker nodes.\n",
      "M                       c076e82c-b2a7-4d20-9c0f-1f0c2fdf5a24  A hardware specification providing 4 CPU cores and 16 GiB of memory.\n",
      "XL-Spark                c1791762-1333-4dd3-b7bb-228ae287da31  A hardware specification for Spark service with 3 CPU and 12 GiB of memory for master and 4 CPU and 12 GiB of memory for worker nodes.\n",
      "K80                     cf70f086-916d-4684-91a7-264c49c6d425  A hardware specification providing 4 CPU cores and 24 GiB of memory with 1 Nvidia K80 GPU.\n",
      "XL                      d0aa1ae8-a889-42e2-a099-041b604b9289  A hardware specification providing 16 CPU cores and 64 GiB of memory.\n",
      "K80x2                   d0f52aa1-4312-40f6-ad84-f16cf5c6da9e  A hardware specification providing 8 CPU cores and 48 GiB of memory with 2 Nvidia K80 GPUs.\n",
      "Notebook Default Spark  d4e4937c-a7a5-5357-ad12-45ee7b1ff380  For notebooks with Spark kernels. The default resource sizes are subject to change.\n",
      "S-Spark                 d92943ba-9f47-407d-9280-c85281687a1e  A hardware specification for Spark service with 1 CPU and 4 GiB of memory for master and 2 CPU and 4 GiB of memory for worker nodes.\n",
      "XS-Spark                e18b1866-e8fa-49c8-9aa5-dfaaed6ffa43  A hardware specification for Spark with 1 CPU and 4 GiB of memory for master and worker nodes.\n",
      "S                       e7ed1d6c-2e89-42d7-aed5-863b972c1d2b  A hardware specification providing 2 CPU cores and 8 GiB of memory.\n",
      "K80x4                   ec104857-0389-4649-af8e-971fc11982d0  A hardware specification providing 16 CPU cores and 96 GiB of memory with 4 Nvidia K80 GPUs.\n",
      "L-Spark                 f132f14a-6c0f-4570-b87c-98ad1e297953  A hardware specification for Spark service with 2 CPU and 8 GiB of memory for master and 4 CPU and 9 GiB of memory for worker nodes.\n",
      "XS                      f3ebac7d-0a75-410c-8b48-a931428cc4c5  A hardware specification providing one CPU core and 4 GiB of memory.\n",
      "----------------------  ------------------------------------  --------------------------------------------------------------------------------------------------------------------------------------\n"
     ]
    }
   ],
   "source": [
    "client.hardware_specifications.list()"
   ]
  },
  {
   "cell_type": "code",
   "execution_count": 14,
   "metadata": {
    "collapsed": false
   },
   "outputs": [
    {
     "name": "stdout",
     "output_type": "stream",
     "text": [
      "\n",
      "\n",
      "#######################################################################################\n",
      "\n",
      "Synchronous deployment creation for uid: 'b800b511-d515-47da-8bd5-c06b927c379e' started\n",
      "\n",
      "#######################################################################################\n",
      "\n",
      "\n",
      "initializing\n",
      "Note: online_url is deprecated and will be removed in a future release. Use serving_urls instead.\n",
      "..\n",
      "ready\n",
      "\n",
      "\n",
      "------------------------------------------------------------------------------------------------\n",
      "Successfully finished deployment creation, deployment_uid='b48cd709-a43a-45af-8f80-8535affa8849'\n",
      "------------------------------------------------------------------------------------------------\n",
      "\n",
      "\n"
     ]
    }
   ],
   "source": [
    "hardware_spec_id = \"b128f957-581d-46d0-95b6-8af5cd5be580\"\n",
    "model_id = \"b800b511-d515-47da-8bd5-c06b927c379e\"\n",
    "dep_details = client.deployments.create(artifact_uid=model_id,meta_props={\n",
    "     client.deployments.ConfigurationMetaNames.NAME:\"Nalaiya_thiran_deployment\",\n",
    "     client.deployments.ConfigurationMetaNames.HARDWARE_SPEC: { \"id\": hardware_spec_id},\n",
    "     client.deployments.ConfigurationMetaNames.ONLINE:{}})"
   ]
  },
  {
   "cell_type": "code",
   "execution_count": 15,
   "metadata": {
    "collapsed": false
   },
   "outputs": [],
   "source": [
    "from tensorflow.keras.preprocessing import image\n",
    "import numpy as np"
   ]
  },
  {
   "cell_type": "code",
   "execution_count": 16,
   "metadata": {
    "collapsed": false
   },
   "outputs": [],
   "source": [
    "img = np.expand_dims(image.img_to_array(\n",
    "            image.load_img(\"ecg1.png\", target_size=(64, 64), color_mode=\"grayscale\")), axis=0)"
   ]
  },
  {
   "cell_type": "code",
   "execution_count": 17,
   "metadata": {
    "collapsed": false
   },
   "outputs": [],
   "source": [
    "scoring_payload = {\n",
    " client.deployments.ScoringMetaNames.INPUT_DATA: [{\n",
    "        \"values\": img\n",
    "     }]\n",
    " }"
   ]
  },
  {
   "cell_type": "code",
   "execution_count": 18,
   "metadata": {
    "collapsed": false
   },
   "outputs": [],
   "source": [
    "dep_id = \"b48cd709-a43a-45af-8f80-8535affa8849\""
   ]
  },
  {
   "cell_type": "code",
   "execution_count": 19,
   "metadata": {
    "collapsed": false
   },
   "outputs": [
    {
     "data": {
      "text/plain": [
       "{'predictions': [{'id': 'dense_1',\n",
       "   'fields': ['prediction', 'prediction_classes', 'probability'],\n",
       "   'values': [[[1.0, 0.0, 0.0, 0.0, 0.0, 0.0],\n",
       "     0,\n",
       "     [1.0, 0.0, 0.0, 0.0, 0.0, 0.0]]]}]}"
      ]
     },
     "execution_count": 19,
     "metadata": {},
     "output_type": "execute_result"
    }
   ],
   "source": [
    "client.deployments.score(deployment_id=dep_id,meta_props=scoring_payload)"
   ]
  }
 ],
 "metadata": {
  "kernelspec": {
   "display_name": "Python 3.10.7 64-bit",
   "language": "python",
   "name": "python3"
  },
  "language_info": {
   "codemirror_mode": {
    "name": "ipython",
    "version": 3
   },
   "file_extension": ".py",
   "mimetype": "text/x-python",
   "name": "python",
   "nbconvert_exporter": "python",
   "pygments_lexer": "ipython3",
   "version": "3.10.7"
  },
  "vscode": {
   "interpreter": {
    "hash": "71a0d87e2c116509eb245a8d982e7fbfe0cb69a28dcfdff80ff3e12473e60cad"
   }
  }
 },
 "nbformat": 4,
 "nbformat_minor": 0
}
